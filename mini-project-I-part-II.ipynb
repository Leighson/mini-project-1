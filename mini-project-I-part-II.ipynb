{
 "cells": [
  {
   "cell_type": "markdown",
   "metadata": {},
   "source": [
    "## Movies\n",
    "In this part of mini-project, we need to have our API-KEY ready because this API won't work without it.\n",
    "\n",
    "We encourage you to look for correct endpoints in [the documentation](https://developers.themoviedb.org/3/account). We can also play around with requests there before copying them to Python."
   ]
  },
  {
   "cell_type": "markdown",
   "metadata": {},
   "source": [
    "## Demo"
   ]
  },
  {
   "cell_type": "code",
   "execution_count": 1,
   "metadata": {},
   "outputs": [],
   "source": [
    "import os\n",
    "import requests as re\n",
    "import json\n",
    "import pandas as pd"
   ]
  },
  {
   "cell_type": "code",
   "execution_count": 2,
   "metadata": {},
   "outputs": [],
   "source": [
    "# queries\n",
    "query = 'chungking express'\n",
    "\n",
    "# request identification and authorization\n",
    "api_key = os.environ.get('TMDB_API_KEY')\n",
    "api_token = os.environ.get('TMDB_API_TOKEN')\n",
    "headers = {'Authorization' : f'Bearer {api_token}',\n",
    "           'Content-Type' : 'application/json;charset=utf-8'}\n",
    "\n",
    "# request url, endpoint, and headers\n",
    "base = \"https://api.themoviedb.org/3\"\n",
    "endpoint = \"/search/movie\"\n",
    "params = f'?query={query}&api_key={api_key}'"
   ]
  },
  {
   "cell_type": "code",
   "execution_count": 3,
   "metadata": {},
   "outputs": [
    {
     "name": "stdout",
     "output_type": "stream",
     "text": [
      "11104\n"
     ]
    }
   ],
   "source": [
    "# demo query response\n",
    "res = re.get(base + endpoint + params, headers=headers)\n",
    "res.json()\n",
    "\n",
    "# get movie id of favourite movie\n",
    "movie_id = res.json()['results'][0]['id']\n",
    "print(movie_id)"
   ]
  },
  {
   "cell_type": "code",
   "execution_count": 4,
   "metadata": {},
   "outputs": [],
   "source": [
    "# create query function for TMDB\n",
    "def tmdb_api(base, endpoint, params, headers):\n",
    "    res = re.get(base + endpoint + params, headers=headers)\n",
    "    return res.json()"
   ]
  },
  {
   "cell_type": "markdown",
   "metadata": {},
   "source": [
    "## Task\n",
    "Search for you favorite movie and return the information about the movie:\n",
    "- name\n",
    "- release date\n",
    "- runtime\n",
    "- revenue\n",
    "- length of the overview\n",
    "- number of votes\n",
    "- voting average"
   ]
  },
  {
   "cell_type": "code",
   "execution_count": 5,
   "metadata": {},
   "outputs": [],
   "source": [
    "# redefine method with movie id\n",
    "base = 'https://api.themoviedb.org/3'\n",
    "endpoint = f'/movie/{movie_id}'\n",
    "params = f'&api_key={api_key}'\n",
    "headers = {'Authorization' : f'Bearer {api_token}',\n",
    "           'Content-Type' : 'application/json;charset=utf-8'}\n",
    "\n",
    "# response function\n",
    "movie_res = tmdb_api(base, endpoint, params, headers)"
   ]
  },
  {
   "cell_type": "code",
   "execution_count": 6,
   "metadata": {},
   "outputs": [],
   "source": [
    "# export results to json file\n",
    "df = pd.json_normalize(movie_res)\n",
    "df.to_json(('data/tmdb_favourite_movie.json'))"
   ]
  },
  {
   "cell_type": "code",
   "execution_count": 7,
   "metadata": {},
   "outputs": [
    {
     "name": "stdout",
     "output_type": "stream",
     "text": [
      "Name of the movie is Chungking Express.\n",
      "Release date is 1994-07-14.\n",
      "Runtime is 103 minutes.\n",
      "Revenue is $0.\n",
      "Length of the overview is 178 characters.\n",
      "Number of votes is 1250.\n",
      "Voting average is 8.05.\n"
     ]
    }
   ],
   "source": [
    "# name\n",
    "print(f'Name of the movie is {movie_res[\"title\"]}.')\n",
    "\n",
    "# release date\n",
    "print(f'Release date is {movie_res[\"release_date\"]}.')\n",
    "\n",
    "# runtime\n",
    "print(f'Runtime is {movie_res[\"runtime\"]} minutes.')\n",
    "\n",
    "# revenue\n",
    "print(f'Revenue is ${movie_res[\"revenue\"]}.')\n",
    "\n",
    "# length of the overview\n",
    "print(f'Length of the overview is {len(movie_res[\"overview\"])} characters.')\n",
    "\n",
    "# number of votes\n",
    "print(f'Number of votes is {movie_res[\"vote_count\"]}.')\n",
    "\n",
    "# voting average\n",
    "print(f'Voting average is {movie_res[\"vote_average\"]:.2f}.')"
   ]
  },
  {
   "cell_type": "markdown",
   "metadata": {},
   "source": [
    "## Task\n",
    "Search for you favorite actor/actress and return the information about him/her:\n",
    "- name\n",
    "- date of birth\n",
    "- place of birth\n",
    "- length of the biography"
   ]
  },
  {
   "cell_type": "code",
   "execution_count": 8,
   "metadata": {},
   "outputs": [],
   "source": [
    "# search query\n",
    "query = 'tony leung'\n",
    "\n",
    "# search for query\n",
    "base = 'https://api.themoviedb.org/3'\n",
    "endpoint = f'/search/person'\n",
    "params = f'?query={query}&api_key={api_key}'\n",
    "headers = {'Authorization' : f'Bearer {api_token}',\n",
    "           'Content-Type' : 'application/json;charset=utf-8'}\n",
    "\n",
    "# response function\n",
    "person_res = tmdb_api(base, endpoint, params, headers)\n",
    "person_id = person_res['results'][0]['id']"
   ]
  },
  {
   "cell_type": "code",
   "execution_count": 9,
   "metadata": {},
   "outputs": [],
   "source": [
    "# redefine method with movie id\n",
    "base = 'https://api.themoviedb.org/3'\n",
    "endpoint = f'/person/{person_id}'\n",
    "params = f'&api_key={api_key}'\n",
    "headers = {'Authorization' : f'Bearer {api_token}',\n",
    "           'Content-Type' : 'application/json;charset=utf-8'}\n",
    "\n",
    "# response function\n",
    "person_res = tmdb_api(base, endpoint, params, headers)"
   ]
  },
  {
   "cell_type": "code",
   "execution_count": 10,
   "metadata": {},
   "outputs": [],
   "source": [
    "# export response to json file\n",
    "df = pd.json_normalize(person_res)\n",
    "df.to_json('data/tmdb_favourite_person.json')"
   ]
  },
  {
   "cell_type": "code",
   "execution_count": 11,
   "metadata": {},
   "outputs": [
    {
     "name": "stdout",
     "output_type": "stream",
     "text": [
      "This person is known by the following names:\n",
      "\t 양조위\n",
      "\t 梁朝偉\n",
      "\t Tony Chiu Wai Leung\n",
      "\t 梁朝伟\n",
      "\t Tony Leung\n",
      "\t Yang Jo-wi\n",
      "Date of birth is 1962-06-27.\n",
      "They were born at Hong Kong, British Crown Colony [now China].\n",
      "The leangth of their biography is 1735 characters.\n"
     ]
    }
   ],
   "source": [
    "# name\n",
    "print(f'This person is known by the following names:')\n",
    "for name in person_res['also_known_as']:\n",
    "    print('\\t', name.lstrip())\n",
    "\n",
    "# date of birth\n",
    "print(f'Date of birth is {person_res[\"birthday\"]}.')\n",
    "\n",
    "# place of birth\n",
    "print(f'They were born at {person_res[\"place_of_birth\"]}.')\n",
    "\n",
    "# length of the biography\n",
    "print(f'The leangth of their biography is {len(person_res[\"biography\"])} characters.')"
   ]
  },
  {
   "cell_type": "markdown",
   "metadata": {},
   "source": [
    "## Task\n",
    "Search for you favorite tv-show and return the information about it:\n",
    "- name\n",
    "- first air date\n",
    "- number of seasons\n",
    "- number of episodes\n",
    "- genres"
   ]
  },
  {
   "cell_type": "code",
   "execution_count": 12,
   "metadata": {},
   "outputs": [],
   "source": [
    "# search query\n",
    "query = 'the wire'\n",
    "\n",
    "# request identification and authorization\n",
    "api_key = os.environ.get('TMDB_API_KEY')\n",
    "api_token = os.environ.get('TMDB_API_TOKEN')\n",
    "headers = {'Authorization' : f'Bearer {api_token}',\n",
    "           'Content-Type' : 'application/json;charset=utf-8'}\n",
    "\n",
    "# request url, endpoint, and headers\n",
    "base = \"https://api.themoviedb.org/3\"\n",
    "endpoint = \"/search/tv\"\n",
    "params = f'?query={query}&api_key={api_key}'\n",
    "\n",
    "# response function to get id\n",
    "tv_res = tmdb_api(base, endpoint, params, headers)"
   ]
  },
  {
   "cell_type": "code",
   "execution_count": 13,
   "metadata": {},
   "outputs": [
    {
     "data": {
      "text/plain": [
       "1438"
      ]
     },
     "execution_count": 13,
     "metadata": {},
     "output_type": "execute_result"
    }
   ],
   "source": [
    "# search by id\n",
    "tv_id = tv_res['results'][0]['id']\n",
    "tv_id"
   ]
  },
  {
   "cell_type": "code",
   "execution_count": 14,
   "metadata": {},
   "outputs": [
    {
     "data": {
      "text/plain": [
       "{'adult': False,\n",
       " 'backdrop_path': '/oggnxmvofLtGQvXsO9bAFyCj3p6.jpg',\n",
       " 'created_by': [{'id': 1218279,\n",
       "   'credit_id': '5256f16e19c2956ff61156a5',\n",
       "   'name': 'David Simon',\n",
       "   'gender': 2,\n",
       "   'profile_path': None}],\n",
       " 'episode_run_time': [60],\n",
       " 'first_air_date': '2002-06-02',\n",
       " 'genres': [{'id': 80, 'name': 'Crime'}, {'id': 18, 'name': 'Drama'}],\n",
       " 'homepage': 'http://www.hbo.com/the-wire',\n",
       " 'id': 1438,\n",
       " 'in_production': False,\n",
       " 'languages': ['es', 'en', 'el', 'zh'],\n",
       " 'last_air_date': '2008-03-09',\n",
       " 'last_episode_to_air': {'air_date': '2008-03-09',\n",
       "  'episode_number': 10,\n",
       "  'id': 66511,\n",
       "  'name': '-30-',\n",
       "  'overview': '\"...the life of kings.\" - H.L. Mencken\\n\\nA damaging report by Pearlman and Daniels gets a reaction from Carcetti, while Haynes finds little support for his concerns about a reporters work from the bosses. Meanwhile, McNulty wants to put a homeless case to an end, Dukie searches for an old mentor and a fallen officer is given a wake.',\n",
       "  'production_code': '510',\n",
       "  'runtime': 94,\n",
       "  'season_number': 5,\n",
       "  'show_id': 1438,\n",
       "  'still_path': '/vlEEQeTNLV9qBIe293AliKWykH5.jpg',\n",
       "  'vote_average': 8.9,\n",
       "  'vote_count': 19},\n",
       " 'name': 'The Wire',\n",
       " 'next_episode_to_air': None,\n",
       " 'networks': [{'id': 49,\n",
       "   'name': 'HBO',\n",
       "   'logo_path': '/tuomPhY2UtuPTqqFnKMVHvSb724.png',\n",
       "   'origin_country': 'US'}],\n",
       " 'number_of_episodes': 60,\n",
       " 'number_of_seasons': 5,\n",
       " 'origin_country': ['US'],\n",
       " 'original_language': 'en',\n",
       " 'original_name': 'The Wire',\n",
       " 'overview': 'Told from the points of view of both the Baltimore homicide and narcotics detectives and their targets, the series captures a universe in which the national war on drugs has become a permanent, self-sustaining bureaucracy, and distinctions between good and evil are routinely obliterated.',\n",
       " 'popularity': 63.721,\n",
       " 'poster_path': '/4lbclFySvugI51fwsyxBTOm4DqK.jpg',\n",
       " 'production_companies': [{'id': 78811,\n",
       "   'logo_path': None,\n",
       "   'name': 'Blown Deadline Productions',\n",
       "   'origin_country': 'US'}],\n",
       " 'production_countries': [{'iso_3166_1': 'US',\n",
       "   'name': 'United States of America'}],\n",
       " 'seasons': [{'air_date': '2006-08-20',\n",
       "   'episode_count': 7,\n",
       "   'id': 3853,\n",
       "   'name': 'Specials',\n",
       "   'overview': '',\n",
       "   'poster_path': '/dXq8SkQuxzs7uNdLIWYec5l1JSG.jpg',\n",
       "   'season_number': 0},\n",
       "  {'air_date': '2002-06-02',\n",
       "   'episode_count': 13,\n",
       "   'id': 3848,\n",
       "   'name': 'Season 1',\n",
       "   'overview': 'On the drug-infested streets of West Baltimore, there are good guys and there are bad guys. Sometimes you need more than a badge to tell them apart. Season 1 follows a single sprawling drug and murder investigation in Baltimore — one that culminates in a complex series of dangerous wiretaps and surveillance.',\n",
       "   'poster_path': '/blgnd2APWtxsxGyctmZyaMPO4Ym.jpg',\n",
       "   'season_number': 1},\n",
       "  {'air_date': '2003-06-01',\n",
       "   'episode_count': 12,\n",
       "   'id': 3849,\n",
       "   'name': 'Season 2',\n",
       "   'overview': \"McNulty's on harbor patrol. Daniels is in the police-archives dungeon. Prez is chafing in the suburbs. Greggs has a desk job. The detail may be on ice, but corruption marches on . . . and a horrific discovery is about to turn the Baltimore shipping port inside out. Setting up in the wake of the first season's joint homicide/narcotics detail that exposed a major drug operation — and left its members stigmatized and reassigned — the second season expands to include not only familiar drug dealers, but a group of longshoremen and organized crime members who are caught up in a major homicide case.\",\n",
       "   'poster_path': '/scOZiOzUePpz7JnWRpjI8HcY1RU.jpg',\n",
       "   'season_number': 2},\n",
       "  {'air_date': '2004-09-19',\n",
       "   'episode_count': 12,\n",
       "   'id': 3850,\n",
       "   'name': 'Season 3',\n",
       "   'overview': \"The heat is on in Baltimore. The drug war is being lost, bodies are piling up, and a desperate mayor wants the tide turned before the election. But the police department hasn't got any answers. Wiretaps haven’t worked. Neither have stakeouts or street busts. With the demolition of the Franklin Terrace towers, Stringer Bell and the Barksdale crew have been forced to improvise. But no matter how hard McNulty and the detail try, the dealers always seem to be one step ahead of the game. It’s time to change the rules.\",\n",
       "   'poster_path': '/mWo4dHE0XXsKgZOQQCtkHl3IHrf.jpg',\n",
       "   'season_number': 3},\n",
       "  {'air_date': '2006-09-10',\n",
       "   'episode_count': 13,\n",
       "   'id': 3851,\n",
       "   'name': 'Season 4',\n",
       "   'overview': \"In the projects. On the docks. In City Hall. And now, in the schools. The places and faces change, but the game remains the same. A new story begins. This year, while expanding on storylines introduced in previous seasons — including the new vocations of several characters, the rise of a new drug empire, and the city's imminent mayoral election — the series expands its focus into Baltimore's school system, providing an inside look at the role of the urban educational system in shaping young people's lives. This storyline is played out through four new young characters, each of whom faces difficult choices amidst the temptation of crime and easy money.\",\n",
       "   'poster_path': '/jxSJdEX6jmODu3eglC8j4Kv2Gll.jpg',\n",
       "   'season_number': 4},\n",
       "  {'air_date': '2008-01-06',\n",
       "   'episode_count': 10,\n",
       "   'id': 3852,\n",
       "   'name': 'Season 5',\n",
       "   'overview': 'In the projects. On the docks. In City Hall. In the schools. And now, in the media. The places and faces change, but the game remains the same. In the fifth — and final — season, the series expands its focus into the media — specifically the role of newspapers in big-city bureaucracy — as it follows a newspaper staff as they struggle to maintain integrity and meet deadlines in the face of budget cuts and staff reductions.',\n",
       "   'poster_path': '/eAU1JwadhNBar0xaxxVW3frlkM5.jpg',\n",
       "   'season_number': 5}],\n",
       " 'spoken_languages': [{'english_name': 'Spanish',\n",
       "   'iso_639_1': 'es',\n",
       "   'name': 'Español'},\n",
       "  {'english_name': 'English', 'iso_639_1': 'en', 'name': 'English'},\n",
       "  {'english_name': 'Greek', 'iso_639_1': 'el', 'name': 'ελληνικά'},\n",
       "  {'english_name': 'Mandarin', 'iso_639_1': 'zh', 'name': '普通话'}],\n",
       " 'status': 'Ended',\n",
       " 'tagline': 'All in the game.',\n",
       " 'type': 'Scripted',\n",
       " 'vote_average': 8.493,\n",
       " 'vote_count': 1615}"
      ]
     },
     "execution_count": 14,
     "metadata": {},
     "output_type": "execute_result"
    }
   ],
   "source": [
    "# redefine method with movie id\n",
    "base = 'https://api.themoviedb.org/3'\n",
    "endpoint = f'/tv/{tv_id}'\n",
    "params = f'&api_key={api_key}'\n",
    "headers = {'Authorization' : f'Bearer {api_token}',\n",
    "           'Content-Type' : 'application/json;charset=utf-8'}\n",
    "\n",
    "# response function\n",
    "tv_res = tmdb_api(base, endpoint, params, headers)\n",
    "tv_res"
   ]
  },
  {
   "cell_type": "code",
   "execution_count": 15,
   "metadata": {},
   "outputs": [],
   "source": [
    "# export results to json files\n",
    "df = pd.json_normalize(tv_res)\n",
    "df.to_json('data/tmdb_favourite_tvshow.json')"
   ]
  },
  {
   "cell_type": "code",
   "execution_count": 16,
   "metadata": {},
   "outputs": [
    {
     "name": "stdout",
     "output_type": "stream",
     "text": [
      "The show's name is The Wire.\n",
      "It first aired on 2002-06-02.\n",
      "This show ran for 5 seasons.\n",
      "It had 60.\n",
      "Genres: [{'id': 80, 'name': 'Crime'}, {'id': 18, 'name': 'Drama'}].\n"
     ]
    }
   ],
   "source": [
    "# name\n",
    "print(f'The show\\'s name is {tv_res[\"name\"]}.')\n",
    "\n",
    "# first air date\n",
    "print(f'It first aired on {tv_res[\"first_air_date\"]}.')\n",
    "\n",
    "# number of seasons\n",
    "print(f'This show ran for {tv_res[\"number_of_seasons\"]} seasons.')\n",
    "\n",
    "# number of episodes\n",
    "print(f'It had {tv_res[\"number_of_episodes\"]}.')\n",
    "\n",
    "# genres\n",
    "print(f'Genres: {tv_res[\"genres\"]}.')"
   ]
  },
  {
   "cell_type": "markdown",
   "metadata": {},
   "source": [
    "## Task \n",
    "Find top 5 trending:\n",
    "- movies\n",
    "- tv-shows\n",
    "- people"
   ]
  },
  {
   "cell_type": "code",
   "execution_count": 17,
   "metadata": {},
   "outputs": [],
   "source": [
    "# media type\n",
    "media_movie = 'movie'\n",
    "media_tv = 'tv'\n",
    "media_person = 'person'\n",
    "\n",
    "# window of time\n",
    "time_week = 'week'\n",
    "time_day = 'day'"
   ]
  },
  {
   "cell_type": "code",
   "execution_count": 18,
   "metadata": {},
   "outputs": [],
   "source": [
    "# redefine method with movie id\n",
    "# base = 'https://api.themoviedb.org/3'\n",
    "# endpoint_tv = f'/trending/{media[1]}/{time}'\n",
    "# params = f'&api_key={api_key}'\n",
    "# headers = {'Authorization' : f'Bearer {api_token}',\n",
    "           # 'Content-Type' : 'application/json;charset=utf-8'}\n",
    "\n",
    "# response function\n",
    "# trending_res = tmdb_api(base, endpoint, params, headers)\n",
    "# trending_res"
   ]
  },
  {
   "cell_type": "code",
   "execution_count": 19,
   "metadata": {},
   "outputs": [
    {
     "data": {
      "text/plain": [
       "['Top Gun: Maverick', 'Samaritan', 'Nope', 'Jurassic World Dominion', 'Fall']"
      ]
     },
     "execution_count": 19,
     "metadata": {},
     "output_type": "execute_result"
    }
   ],
   "source": [
    "# receiving no response from the api request\n",
    "url_request = f'https://api.themoviedb.org/3/trending/{media_movie}/{time_week}?api_key=19692e41d438bd5522cb3194d01472d1'\n",
    "movie_list = []\n",
    "\n",
    "for n in range(5):\n",
    "    movie_list.append(\n",
    "        re.get(url_request).json()['results'][n]['original_title'])\n",
    "    \n",
    "movie_list"
   ]
  },
  {
   "cell_type": "code",
   "execution_count": 20,
   "metadata": {},
   "outputs": [
    {
     "data": {
      "text/plain": [
       "['The Lord of the Rings: The Rings of Power',\n",
       " 'House of the Dragon',\n",
       " 'She-Hulk: Attorney at Law',\n",
       " 'The Sandman',\n",
       " 'Rick and Morty']"
      ]
     },
     "execution_count": 20,
     "metadata": {},
     "output_type": "execute_result"
    }
   ],
   "source": [
    "# receiving no response from the api request\n",
    "url_request = f'https://api.themoviedb.org/3/trending/{media_tv}/{time_week}?api_key=19692e41d438bd5522cb3194d01472d1'\n",
    "tv_list = []\n",
    "\n",
    "for n in range(5):\n",
    "    tv_list.append(\n",
    "        re.get(url_request).json()['results'][n]['original_name'])\n",
    "    \n",
    "tv_list"
   ]
  },
  {
   "cell_type": "code",
   "execution_count": 21,
   "metadata": {},
   "outputs": [
    {
     "data": {
      "text/plain": [
       "['三上悠亜', '雷火剑', 'Tom Cruise', '动漫堂', 'Jackie Chan']"
      ]
     },
     "execution_count": 21,
     "metadata": {},
     "output_type": "execute_result"
    }
   ],
   "source": [
    "# receiving no response from the api request\n",
    "url_request = f'https://api.themoviedb.org/3/trending/{media_person}/{time_week}?api_key=19692e41d438bd5522cb3194d01472d1'\n",
    "people_list = []\n",
    "\n",
    "for n in range(5):\n",
    "    people_list.append(\n",
    "        re.get(url_request).json()['results'][n]['original_name'])\n",
    "    \n",
    "people_list"
   ]
  }
 ],
 "metadata": {
  "kernelspec": {
   "display_name": "Python 3.8.13 ('lighthouse')",
   "language": "python",
   "name": "python3"
  },
  "language_info": {
   "codemirror_mode": {
    "name": "ipython",
    "version": 3
   },
   "file_extension": ".py",
   "mimetype": "text/x-python",
   "name": "python",
   "nbconvert_exporter": "python",
   "pygments_lexer": "ipython3",
   "version": "3.8.13"
  },
  "vscode": {
   "interpreter": {
    "hash": "f6bdb6bebcaa6c165db367a86e382ae8df75f09257c40532b854029e0e3d706f"
   }
  }
 },
 "nbformat": 4,
 "nbformat_minor": 4
}
