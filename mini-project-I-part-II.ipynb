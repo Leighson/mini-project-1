{
 "cells": [
  {
   "cell_type": "markdown",
   "metadata": {},
   "source": [
    "## Movies\n",
    "In this part of mini-project, we need to have our API-KEY ready because this API won't work without it.\n",
    "\n",
    "We encourage you to look for correct endpoints in [the documentation](https://developers.themoviedb.org/3/account). We can also play around with requests there before copying them to Python."
   ]
  },
  {
   "cell_type": "markdown",
   "metadata": {},
   "source": [
    "## Demo"
   ]
  },
  {
   "cell_type": "code",
   "execution_count": 1,
   "metadata": {},
   "outputs": [],
   "source": [
    "import os\n",
    "import requests as re\n",
    "import json"
   ]
  },
  {
   "cell_type": "code",
   "execution_count": 2,
   "metadata": {},
   "outputs": [],
   "source": [
    "base = \"https://api.themoviedb.org/3\"\n",
    "url = \"/search/movie\"\n",
    "\n",
    "query = 'titanic'\n",
    "api_key = os.environ.get('TMDB_API_KEY')\n",
    "params = f'?query={query}&api_key={api_key}' "
   ]
  },
  {
   "cell_type": "code",
   "execution_count": 3,
   "metadata": {},
   "outputs": [
    {
     "name": "stdout",
     "output_type": "stream",
     "text": [
      "19692e41d438bd5522cb3194d01472d1\n"
     ]
    }
   ],
   "source": [
    "print(api_key)"
   ]
  },
  {
   "cell_type": "code",
   "execution_count": 4,
   "metadata": {},
   "outputs": [],
   "source": [
    "res = re.get(base+url+params)"
   ]
  },
  {
   "cell_type": "code",
   "execution_count": 5,
   "metadata": {},
   "outputs": [
    {
     "data": {
      "text/plain": [
       "200"
      ]
     },
     "execution_count": 5,
     "metadata": {},
     "output_type": "execute_result"
    }
   ],
   "source": [
    "res.status_code"
   ]
  },
  {
   "cell_type": "code",
   "execution_count": 6,
   "metadata": {},
   "outputs": [
    {
     "data": {
      "text/plain": [
       "{'page': 1,\n",
       " 'results': [{'adult': False,\n",
       "   'backdrop_path': '/5DCIRgOrCTayoCGggVn1kyqs1Vh.jpg',\n",
       "   'genre_ids': [53, 27],\n",
       "   'id': 945657,\n",
       "   'original_language': 'en',\n",
       "   'original_title': 'Titanic 666',\n",
       "   'overview': 'After a mammoth cruise ship sails over the site of the Titanic’s disaster, dark and deadly events start to occur on board. As the ship’s captain investigates the tragic occurrences, it becomes clear that the passengers and crew from the original Titanic have returned.',\n",
       "   'popularity': 928.358,\n",
       "   'poster_path': '/EX0ITg5YqDgFHjujpTNhEPaJSL.jpg',\n",
       "   'release_date': '2022-04-15',\n",
       "   'title': 'Titanic 666',\n",
       "   'video': False,\n",
       "   'vote_average': 6,\n",
       "   'vote_count': 65},\n",
       "  {'adult': False,\n",
       "   'backdrop_path': '/3WjbxaqYB4vAbdUfdr5vbglD2JZ.jpg',\n",
       "   'genre_ids': [18, 10749],\n",
       "   'id': 597,\n",
       "   'original_language': 'en',\n",
       "   'original_title': 'Titanic',\n",
       "   'overview': \"101-year-old Rose DeWitt Bukater tells the story of her life aboard the Titanic, 84 years later. A young Rose boards the ship with her mother and fiancé. Meanwhile, Jack Dawson and Fabrizio De Rossi win third-class tickets aboard the ship. Rose tells the whole story from Titanic's departure through to its death—on its first and last voyage—on April 15, 1912.\",\n",
       "   'popularity': 189.144,\n",
       "   'poster_path': '/9xjZS2rlVxm8SFx8kPC3aIGCOYQ.jpg',\n",
       "   'release_date': '1997-11-18',\n",
       "   'title': 'Titanic',\n",
       "   'video': False,\n",
       "   'vote_average': 7.9,\n",
       "   'vote_count': 21463},\n",
       "  {'adult': False,\n",
       "   'backdrop_path': '/e9XRikkyth0GtG8RkU3XNm0oMsA.jpg',\n",
       "   'genre_ids': [28, 12, 53],\n",
       "   'id': 44918,\n",
       "   'original_language': 'en',\n",
       "   'original_title': 'Titanic II',\n",
       "   'overview': 'On the 100th anniversary of the original voyage, a modern luxury liner christened \"Titanic 2,\" follows the path of its namesake. But when a tsunami hurls an ice berg into the new ship\\'s path, the passengers and crew must fight to avoid a similar fate.',\n",
       "   'popularity': 139.416,\n",
       "   'poster_path': '/3m12UeP1DMfhYZyvpLftaJGsyp3.jpg',\n",
       "   'release_date': '2010-08-07',\n",
       "   'title': 'Titanic II',\n",
       "   'video': False,\n",
       "   'vote_average': 4.9,\n",
       "   'vote_count': 316},\n",
       "  {'adult': False,\n",
       "   'backdrop_path': '/edHgXEtPbyVIQ7xKb1cvJJqTVhA.jpg',\n",
       "   'genre_ids': [28, 18, 36],\n",
       "   'id': 11021,\n",
       "   'original_language': 'de',\n",
       "   'original_title': 'Titanic',\n",
       "   'overview': \"This little-known German film retells the true story of the British ocean liner that met a tragic fate. Ernst Fritz Fürbringer plays the president of the White Star Line, who unwisely pressed the Titanic's captain (Otto Wernicke) to make the swiftest possible crossing to New York.\",\n",
       "   'popularity': 33.901,\n",
       "   'poster_path': '/Al7oIXQ4dZAofBTZWm6OiXS3MEa.jpg',\n",
       "   'release_date': '1943-11-10',\n",
       "   'title': 'Titanic',\n",
       "   'video': False,\n",
       "   'vote_average': 6.1,\n",
       "   'vote_count': 46},\n",
       "  {'adult': False,\n",
       "   'backdrop_path': '/3oShsRvAyZiQQ5lP2hszWN9Ri0b.jpg',\n",
       "   'genre_ids': [18, 10749],\n",
       "   'id': 16535,\n",
       "   'original_language': 'en',\n",
       "   'original_title': 'Titanic',\n",
       "   'overview': 'Unhappily married, Julia Sturges decides to go to America with her two children on the Titanic. Her husband, Richard also arranges passage on the luxury liner so as to have custody of their two children. All this fades to insignificance once the ship hits an iceberg.',\n",
       "   'popularity': 26.757,\n",
       "   'poster_path': '/rEPzO9I6LCk6Mxg1X4BsBk6oA3V.jpg',\n",
       "   'release_date': '1953-04-11',\n",
       "   'title': 'Titanic',\n",
       "   'video': False,\n",
       "   'vote_average': 6.5,\n",
       "   'vote_count': 88},\n",
       "  {'adult': False,\n",
       "   'backdrop_path': None,\n",
       "   'genre_ids': [35],\n",
       "   'id': 996280,\n",
       "   'original_language': 'en',\n",
       "   'original_title': 'Titanic 2',\n",
       "   'overview': 'The long-awaited sequel to Titanic (1997).',\n",
       "   'popularity': 57.123,\n",
       "   'poster_path': '/s0jFNW3SBcOUjKsHazlkjzWbGNz.jpg',\n",
       "   'release_date': '2017-04-04',\n",
       "   'title': 'Titanic 2',\n",
       "   'video': False,\n",
       "   'vote_average': 2,\n",
       "   'vote_count': 1},\n",
       "  {'adult': False,\n",
       "   'backdrop_path': None,\n",
       "   'genre_ids': [18],\n",
       "   'id': 357517,\n",
       "   'original_language': 'de',\n",
       "   'original_title': 'Titanic',\n",
       "   'overview': '',\n",
       "   'popularity': 13.134,\n",
       "   'poster_path': '/yi73me6Jl3zDelS9pQK5jtMRhsc.jpg',\n",
       "   'release_date': '1984-01-01',\n",
       "   'title': 'Titanic',\n",
       "   'video': False,\n",
       "   'vote_average': 7,\n",
       "   'vote_count': 1},\n",
       "  {'adult': False,\n",
       "   'backdrop_path': None,\n",
       "   'genre_ids': [35, 27],\n",
       "   'id': 4240,\n",
       "   'original_language': 'en',\n",
       "   'original_title': 'Titanic 2000',\n",
       "   'overview': 'The luxury liner Titanic 2000 has set sail on its maiden voyage, and one of the passengers is the vampire Vladamina. Vladamina is searching for a woman she can turn into a vampire queen, and frustrated rock groupie Shari looks to be a perfect target. As various people get seduced and/or killed as the liner continues on its doomed voyage, Shari must chose between eternity as a living dead sex slave or a frigid grave at the bottom of the ocean.',\n",
       "   'popularity': 15.925,\n",
       "   'poster_path': '/91p8xU2nykmw8psADIJOlBLdlXK.jpg',\n",
       "   'release_date': '1999-01-01',\n",
       "   'title': 'Titanic 2000',\n",
       "   'video': False,\n",
       "   'vote_average': 3.3,\n",
       "   'vote_count': 10},\n",
       "  {'adult': False,\n",
       "   'backdrop_path': '/4Sddw1BFQFHOIQZ3DY7QS0mGnVe.jpg',\n",
       "   'genre_ids': [16, 10751],\n",
       "   'id': 71235,\n",
       "   'original_language': 'it',\n",
       "   'original_title': 'Titanic: La leggenda continua',\n",
       "   'overview': 'An animated retelling of the worst passenger ship disaster in history. In this version, love blossoms between the upper-class Sir William and the blue-collar Angelica, who is hoping to find romance in America. At the same time, there are also a number of animal passengers, including talking dogs, cats and mice, who are also looking forward to arriving in the New World.',\n",
       "   'popularity': 10.878,\n",
       "   'poster_path': '/s1PHRSlos2hIFrtA8Ze0JybJTGb.jpg',\n",
       "   'release_date': '2000-09-15',\n",
       "   'title': 'Titanic: The Legend Goes On...',\n",
       "   'video': False,\n",
       "   'vote_average': 2.4,\n",
       "   'vote_count': 51},\n",
       "  {'adult': False,\n",
       "   'backdrop_path': '/82tRA7Vdf7TwdyJYILUh6FuY88L.jpg',\n",
       "   'genre_ids': [99],\n",
       "   'id': 198901,\n",
       "   'original_language': 'en',\n",
       "   'original_title': 'Titanic: 100 Years On',\n",
       "   'overview': 'The \"unsinkable\" floating palace set sail from Southampton on 10th April 1912 on her maiden voyage to New York. An iceberg ended this monumental journey 5 days later. Only 705 of the passengers and crew survived. This program features an exclusive look at the Sea City Museum Titanic Exhibit in Southampton, interviews from both survivors and the cast of the blockbuster film.',\n",
       "   'popularity': 15.02,\n",
       "   'poster_path': '/uAaXfaJpKjmsA3F1KgowcRJPKPM.jpg',\n",
       "   'release_date': '2012-06-01',\n",
       "   'title': 'Titanic: 100 Years On',\n",
       "   'video': False,\n",
       "   'vote_average': 6.9,\n",
       "   'vote_count': 18},\n",
       "  {'adult': False,\n",
       "   'backdrop_path': '/q3b8Vi2W6j72aXKggiVoDnEyDgU.jpg',\n",
       "   'genre_ids': [12],\n",
       "   'id': 24575,\n",
       "   'original_language': 'en',\n",
       "   'original_title': 'Raise the Titanic',\n",
       "   'overview': 'To obtain a supply of a rare mineral, a ship raising operation is conducted for the only known source, the Titanic.',\n",
       "   'popularity': 12.721,\n",
       "   'poster_path': '/a8u1FiMXdOlNfhHlpjAr48seQ2g.jpg',\n",
       "   'release_date': '1980-08-01',\n",
       "   'title': 'Raise the Titanic',\n",
       "   'video': False,\n",
       "   'vote_average': 5.5,\n",
       "   'vote_count': 63},\n",
       "  {'adult': False,\n",
       "   'backdrop_path': '/dxdN3RxJRVYzFxVSR0fNhSBqBSL.jpg',\n",
       "   'genre_ids': [99],\n",
       "   'id': 682666,\n",
       "   'original_language': 'en',\n",
       "   'original_title': 'Back to the Titanic',\n",
       "   'overview': 'Back to the Titanic documents the first manned dives to Titanic in nearly 15 years. New footage reveals fresh decay and sheds light on the ship’s future.',\n",
       "   'popularity': 13.293,\n",
       "   'poster_path': '/wqa5qTTX547R9RIsiLbvQww1wkL.jpg',\n",
       "   'release_date': '2020-02-23',\n",
       "   'title': 'Back to the Titanic',\n",
       "   'video': False,\n",
       "   'vote_average': 7,\n",
       "   'vote_count': 5},\n",
       "  {'adult': False,\n",
       "   'backdrop_path': '/9PolVogZuHd07JIPOPTDnFAFj1p.jpg',\n",
       "   'genre_ids': [99],\n",
       "   'id': 489493,\n",
       "   'original_language': 'en',\n",
       "   'original_title': 'Titanic: 20 Years Later with James Cameron',\n",
       "   'overview': 'For the 20th anniversary of \"Titanic,\" James Cameron reopens the file on the disaster.',\n",
       "   'popularity': 22.261,\n",
       "   'poster_path': '/5w18P8qU9sHRcW6pH3NVGVVIKFw.jpg',\n",
       "   'release_date': '2017-11-26',\n",
       "   'title': 'Titanic: 20 Years Later with James Cameron',\n",
       "   'video': False,\n",
       "   'vote_average': 6.4,\n",
       "   'vote_count': 28},\n",
       "  {'adult': False,\n",
       "   'backdrop_path': '/4F9sK5R1P9L21msosfWXSXOJJIg.jpg',\n",
       "   'genre_ids': [99],\n",
       "   'id': 438579,\n",
       "   'original_language': 'en',\n",
       "   'original_title': 'Titanic: The New Evidence',\n",
       "   'overview': \"This documentary draws on new evidence to reveal that a fire was raging in Titanic's boiler rooms before she left port, that it was kept secret and, it's now believed, that it led to the tragedy\",\n",
       "   'popularity': 8.84,\n",
       "   'poster_path': '/AsgGmzPQdtUBba7eUYXuXOmSq56.jpg',\n",
       "   'release_date': '2017-01-21',\n",
       "   'title': 'Titanic: The New Evidence',\n",
       "   'video': False,\n",
       "   'vote_average': 7,\n",
       "   'vote_count': 5},\n",
       "  {'adult': False,\n",
       "   'backdrop_path': None,\n",
       "   'genre_ids': [99, 36],\n",
       "   'id': 530108,\n",
       "   'original_language': 'en',\n",
       "   'original_title': 'The Unsinkable Titanic',\n",
       "   'overview': 'On April 10, 1912, the RMS Titanic embarked on its maiden voyage, sailing from Southampton, England, to New York City. One of the largest and most luxurious passenger liners at the time, the Titanic was also equipped with watertight compartments, which led many to consider the ship unsinkable; an anonymous deckhand famously claimed that “God himself could not sink this ship.” On April 14, however, the ship struck an iceberg, and early the next day it sank. Some 1,500 people perished.',\n",
       "   'popularity': 9.246,\n",
       "   'poster_path': '/m3py1JoOPM3s3RTRv965tMC8Fqy.jpg',\n",
       "   'release_date': '2008-11-03',\n",
       "   'title': 'The Unsinkable Titanic',\n",
       "   'video': False,\n",
       "   'vote_average': 7,\n",
       "   'vote_count': 3},\n",
       "  {'adult': False,\n",
       "   'backdrop_path': '/sdtfwZulErbQ7y9RVbaOuWVouD6.jpg',\n",
       "   'genre_ids': [36, 18, 53],\n",
       "   'id': 86938,\n",
       "   'original_language': 'en',\n",
       "   'original_title': 'S.O.S. Titanic',\n",
       "   'overview': 'The Titanic disaster is depicted as seen through the eyes of one couple in each of the three classes on board.',\n",
       "   'popularity': 4.467,\n",
       "   'poster_path': '/wy5ut2GVpPaNxxXFRdkIywjRpeO.jpg',\n",
       "   'release_date': '1979-09-23',\n",
       "   'title': 'S.O.S. Titanic',\n",
       "   'video': False,\n",
       "   'vote_average': 6.1,\n",
       "   'vote_count': 28},\n",
       "  {'adult': False,\n",
       "   'backdrop_path': '/oTR3KI1kVQ6ULrR2X6TobDlYVzO.jpg',\n",
       "   'genre_ids': [16, 10751],\n",
       "   'id': 44310,\n",
       "   'original_language': 'it',\n",
       "   'original_title': 'La leggenda del Titanic',\n",
       "   'overview': 'Old Grandpa mouse tells to his grandchildren the \"real\" story of the Titanic disaster, including evil sharks, a giant octopus, and an evil whaling scheme.',\n",
       "   'popularity': 5.833,\n",
       "   'poster_path': '/tscmcvMs9T1TOjoMD7x12FveNsR.jpg',\n",
       "   'release_date': '1999-01-01',\n",
       "   'title': 'The Legend of the Titanic',\n",
       "   'video': False,\n",
       "   'vote_average': 3.3,\n",
       "   'vote_count': 32},\n",
       "  {'adult': False,\n",
       "   'backdrop_path': '/8k0pR1v9WcVviJ7NdfiKh8FqlJt.jpg',\n",
       "   'genre_ids': [],\n",
       "   'id': 136331,\n",
       "   'original_language': 'en',\n",
       "   'original_title': 'Titanic: 100 Years in 3D',\n",
       "   'overview': \"100 years after an iceberg defeated the 882-foot luxury liner on its maiden voyage, scientists and historians are still exploring the Titanic. Armed with modern camera technology, submersibles were sent down to the ship's final resting place with the hope of capturing HD 3D visuals of the wreckage, in order to support or even confirm theories about the damage that took the boat down. Now, History Channel has brought some of that footage home in this 45-minute TV special, presented in 3D so that future generations can see it for themselves.\",\n",
       "   'popularity': 7.741,\n",
       "   'poster_path': '/ciWUbeu5GdMFY0phRUjLms8ar0K.jpg',\n",
       "   'release_date': '2012-09-10',\n",
       "   'title': 'Titanic: 100 Years in 3D',\n",
       "   'video': False,\n",
       "   'vote_average': 6.3,\n",
       "   'vote_count': 5},\n",
       "  {'adult': False,\n",
       "   'backdrop_path': '/dRBZAGRSzAnr8PPZblhjaGPbj0w.jpg',\n",
       "   'genre_ids': [99],\n",
       "   'id': 777797,\n",
       "   'original_language': 'fr',\n",
       "   'original_title': 'Titanic, au cœur de l’épave',\n",
       "   'overview': '',\n",
       "   'popularity': 6.618,\n",
       "   'poster_path': '/cxfse8qoGEQ6KsIfp3SXtzkT6b1.jpg',\n",
       "   'release_date': '2020-12-17',\n",
       "   'title': 'Titanic, au cœur de l’épave',\n",
       "   'video': False,\n",
       "   'vote_average': 6.8,\n",
       "   'vote_count': 2},\n",
       "  {'adult': False,\n",
       "   'backdrop_path': '/hDfaa3Nj3K3SkXBr8eALYfPT5pF.jpg',\n",
       "   'genre_ids': [99],\n",
       "   'id': 428950,\n",
       "   'original_language': 'en',\n",
       "   'original_title': 'Drain the Titanic',\n",
       "   'overview': \"Computer-generated imagery and other visualization techniques reveal how it would look if all the water was removed from RMS Titanic's final resting place.\",\n",
       "   'popularity': 4.968,\n",
       "   'poster_path': '/68Fppsnpc3OmQK8kIustffrxHbq.jpg',\n",
       "   'release_date': '2016-05-05',\n",
       "   'title': 'Drain the Titanic',\n",
       "   'video': False,\n",
       "   'vote_average': 7.3,\n",
       "   'vote_count': 16}],\n",
       " 'total_pages': 8,\n",
       " 'total_results': 148}"
      ]
     },
     "execution_count": 6,
     "metadata": {},
     "output_type": "execute_result"
    }
   ],
   "source": [
    "res.json()"
   ]
  },
  {
   "cell_type": "markdown",
   "metadata": {},
   "source": [
    "## Task\n",
    "Search for you favorite movie and return the information about the movie:\n",
    "- name\n",
    "- release date\n",
    "- runtime\n",
    "- revenue\n",
    "- length of the overview\n",
    "- number of votes\n",
    "- voting average"
   ]
  },
  {
   "cell_type": "code",
   "execution_count": null,
   "metadata": {},
   "outputs": [],
   "source": []
  },
  {
   "cell_type": "code",
   "execution_count": null,
   "metadata": {},
   "outputs": [],
   "source": []
  },
  {
   "cell_type": "code",
   "execution_count": null,
   "metadata": {},
   "outputs": [],
   "source": []
  },
  {
   "cell_type": "code",
   "execution_count": null,
   "metadata": {},
   "outputs": [],
   "source": []
  },
  {
   "cell_type": "markdown",
   "metadata": {},
   "source": [
    "## Task\n",
    "Search for you favorite actor/actress and return the information about him/her:\n",
    "- name\n",
    "- date of birth\n",
    "- place of birth\n",
    "- length of the biography"
   ]
  },
  {
   "cell_type": "code",
   "execution_count": null,
   "metadata": {},
   "outputs": [],
   "source": []
  },
  {
   "cell_type": "code",
   "execution_count": null,
   "metadata": {},
   "outputs": [],
   "source": []
  },
  {
   "cell_type": "code",
   "execution_count": null,
   "metadata": {},
   "outputs": [],
   "source": []
  },
  {
   "cell_type": "markdown",
   "metadata": {},
   "source": [
    "## Task\n",
    "Search for you favorite tv-show and return the information about it:\n",
    "- name\n",
    "- first air date\n",
    "- number of seasons\n",
    "- number of episodes\n",
    "- genres"
   ]
  },
  {
   "cell_type": "code",
   "execution_count": null,
   "metadata": {},
   "outputs": [],
   "source": []
  },
  {
   "cell_type": "code",
   "execution_count": null,
   "metadata": {},
   "outputs": [],
   "source": []
  },
  {
   "cell_type": "code",
   "execution_count": null,
   "metadata": {},
   "outputs": [],
   "source": []
  },
  {
   "cell_type": "markdown",
   "metadata": {},
   "source": [
    "## Task \n",
    "Find top 5 trending:\n",
    "- movies\n",
    "- tv-shows\n",
    "- people"
   ]
  },
  {
   "cell_type": "code",
   "execution_count": null,
   "metadata": {},
   "outputs": [],
   "source": []
  },
  {
   "cell_type": "code",
   "execution_count": null,
   "metadata": {},
   "outputs": [],
   "source": []
  }
 ],
 "metadata": {
  "kernelspec": {
   "display_name": "Python 3.8.13 ('lighthouse')",
   "language": "python",
   "name": "python3"
  },
  "language_info": {
   "codemirror_mode": {
    "name": "ipython",
    "version": 3
   },
   "file_extension": ".py",
   "mimetype": "text/x-python",
   "name": "python",
   "nbconvert_exporter": "python",
   "pygments_lexer": "ipython3",
   "version": "3.8.13"
  },
  "vscode": {
   "interpreter": {
    "hash": "f6bdb6bebcaa6c165db367a86e382ae8df75f09257c40532b854029e0e3d706f"
   }
  }
 },
 "nbformat": 4,
 "nbformat_minor": 4
}
